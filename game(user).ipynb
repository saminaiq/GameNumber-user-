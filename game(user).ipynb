{
  "nbformat": 4,
  "nbformat_minor": 0,
  "metadata": {
    "colab": {
      "provenance": [],
      "authorship_tag": "ABX9TyOV2soB4hkK5s3Meq2kmDgn",
      "include_colab_link": true
    },
    "kernelspec": {
      "name": "python3",
      "display_name": "Python 3"
    },
    "language_info": {
      "name": "python"
    }
  },
  "cells": [
    {
      "cell_type": "markdown",
      "metadata": {
        "id": "view-in-github",
        "colab_type": "text"
      },
      "source": [
        "<a href=\"https://colab.research.google.com/github/saminaiq/GameNumber-user-/blob/main/game(user).ipynb\" target=\"_parent\"><img src=\"https://colab.research.google.com/assets/colab-badge.svg\" alt=\"Open In Colab\"/></a>"
      ]
    },
    {
      "cell_type": "code",
      "execution_count": 1,
      "metadata": {
        "colab": {
          "base_uri": "https://localhost:8080/"
        },
        "id": "o16E2Kb1mj4u",
        "outputId": "86aa608f-2691-4638-ca52-4d62b04a2054"
      },
      "outputs": [
        {
          "output_type": "stream",
          "name": "stdout",
          "text": [
            "The computer has thought of a secret number! 🎉 Now guess it! ※\n",
            "Enter your guess (1-10): 2\n",
            "Think bigger! 🔼\n",
            "Enter your guess (1-10): 8\n",
            "Think bigger! 🔼\n",
            "Enter your guess (1-10): 9\n",
            "Bingo! 🎉 You guessed it right! 😂\n"
          ]
        }
      ],
      "source": [
        "import random\n",
        "\n",
        "print(\"The computer has thought of a secret number! 🎉 Now guess it! ※\")\n",
        "\n",
        "secret_number = random.randint(1, 10)\n",
        "\n",
        "try:\n",
        "    while True:\n",
        "        user_input = int(input(\"Enter your guess (1-10): \"))\n",
        "\n",
        "        if user_input == secret_number:\n",
        "            print(\"Bingo! 🎉 You guessed it right! 😂\")\n",
        "            break\n",
        "        elif user_input < secret_number:\n",
        "            print(\"Think bigger! 🔼\")\n",
        "        else:\n",
        "            print(\"Think smaller! 🔽\")\n",
        "except ValueError:\n",
        "    print(\"Invalid Input\")\n",
        "\n"
      ]
    },
    {
      "cell_type": "code",
      "source": [
        "\n",
        "try:\n",
        "    user_ = int(input(\"Enter a Number: \"))\n",
        "    a = 10 / user_\n",
        "    print(a)\n",
        "except ZeroDivisionError:\n",
        "    print(\"Zero division error\")\n",
        "except ValueError:\n",
        "    print(\"Invalid input! Please enter a valid number.\")\n",
        "else:\n",
        "  print(\"Program end...\")\n",
        "\n",
        "\n",
        "\n"
      ],
      "metadata": {
        "colab": {
          "base_uri": "https://localhost:8080/"
        },
        "id": "YArrh6xd76PK",
        "outputId": "6a719147-7ff8-4305-f8dc-4c94432d447b"
      },
      "execution_count": 2,
      "outputs": [
        {
          "output_type": "stream",
          "name": "stdout",
          "text": [
            "Enter a Number: 3\n",
            "3.3333333333333335\n",
            "Program end...\n"
          ]
        }
      ]
    },
    {
      "cell_type": "code",
      "source": [
        "numbers = [83, 99, 77, 66, 66, 35]\n",
        "\n",
        "def Find_Max(arry):\n",
        "    max_value = arry[0]\n",
        "    for i in arry:\n",
        "        if i > max_value:\n",
        "            max = i\n",
        "    index = numbers.index(max)\n",
        "    print(max)\n",
        "    print(max_value)\n",
        "\n",
        "Find_Max(numbers)\n"
      ],
      "metadata": {
        "colab": {
          "base_uri": "https://localhost:8080/"
        },
        "id": "ULgu-kY-8mtk",
        "outputId": "28bbab7d-2f52-4262-b562-84b45d7f2ff2"
      },
      "execution_count": 3,
      "outputs": [
        {
          "output_type": "stream",
          "name": "stdout",
          "text": [
            "99\n",
            "83\n"
          ]
        }
      ]
    }
  ]
}